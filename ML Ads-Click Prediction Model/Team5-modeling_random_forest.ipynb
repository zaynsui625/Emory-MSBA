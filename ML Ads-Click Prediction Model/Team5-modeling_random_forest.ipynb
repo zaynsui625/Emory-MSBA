{
 "cells": [
  {
   "cell_type": "code",
   "execution_count": 2,
   "metadata": {},
   "outputs": [],
   "source": [
    "import xgboost as xgb\n",
    "import numpy as np\n",
    "import pandas as pd\n",
    "import sklearn\n",
    "from sklearn.preprocessing import LabelEncoder\n",
    "from sklearn.ensemble import RandomForestClassifier\n",
    "from sklearn.model_selection import GridSearchCV, KFold, cross_val_score \n",
    "from sklearn.metrics import make_scorer, mean_squared_error, log_loss\n",
    "from sklearn.pipeline import make_pipeline"
   ]
  },
  {
   "cell_type": "code",
   "execution_count": 3,
   "metadata": {},
   "outputs": [],
   "source": [
    "train = pd.read_csv(r\"C:\\Users\\henry\\Documents\\MSBAprogram\\MachineLearning1\\Project Data\\ProjectManipulatedTrainingData.csv\")"
   ]
  },
  {
   "cell_type": "code",
   "execution_count": 4,
   "metadata": {},
   "outputs": [
    {
     "data": {
      "text/plain": [
       "(319911, 25)"
      ]
     },
     "execution_count": 4,
     "metadata": {},
     "output_type": "execute_result"
    }
   ],
   "source": [
    "train.shape"
   ]
  },
  {
   "cell_type": "code",
   "execution_count": 5,
   "metadata": {},
   "outputs": [
    {
     "data": {
      "text/plain": [
       "(319911, 25)"
      ]
     },
     "execution_count": 5,
     "metadata": {},
     "output_type": "execute_result"
    }
   ],
   "source": [
    "train.shape"
   ]
  },
  {
   "cell_type": "code",
   "execution_count": 6,
   "metadata": {},
   "outputs": [],
   "source": [
    "train = train.drop(columns=['id','device_id'])"
   ]
  },
  {
   "cell_type": "code",
   "execution_count": 7,
   "metadata": {},
   "outputs": [],
   "source": [
    "label_encoder = LabelEncoder()"
   ]
  },
  {
   "cell_type": "code",
   "execution_count": 8,
   "metadata": {},
   "outputs": [],
   "source": [
    "train['site_id']=label_encoder.fit_transform(train['site_id'])\n",
    "train['site_domain']=label_encoder.fit_transform(train['site_domain'])\n",
    "train['site_category']=label_encoder.fit_transform(train['site_category'])\n",
    "train['app_id']=label_encoder.fit_transform(train['app_id'])\n",
    "train['app_domain']=label_encoder.fit_transform(train['app_domain'])\n",
    "train['app_category']=label_encoder.fit_transform(train['app_category'])\n",
    "train['device_model']=label_encoder.fit_transform(train['device_model'])\n",
    "train['device_type']=label_encoder.fit_transform(train['device_type'])\n",
    "train['device_conn_type']=label_encoder.fit_transform(train['device_conn_type'])\n",
    "train['C14']=label_encoder.fit_transform(train['C14'])\n",
    "train['C15']=label_encoder.fit_transform(train['C15'])\n",
    "train['C16']=label_encoder.fit_transform(train['C16'])\n",
    "train['C17']=label_encoder.fit_transform(train['C17'])\n",
    "train['C19']=label_encoder.fit_transform(train['C19'])\n",
    "train['C20']=label_encoder.fit_transform(train['C20'])\n",
    "train['C21']=label_encoder.fit_transform(train['C21'])"
   ]
  },
  {
   "cell_type": "code",
   "execution_count": 9,
   "metadata": {},
   "outputs": [],
   "source": [
    "newtrain = train.iloc[:255929]"
   ]
  },
  {
   "cell_type": "code",
   "execution_count": 10,
   "metadata": {},
   "outputs": [
    {
     "data": {
      "text/plain": [
       "(255929, 23)"
      ]
     },
     "execution_count": 10,
     "metadata": {},
     "output_type": "execute_result"
    }
   ],
   "source": [
    "newtrain.shape"
   ]
  },
  {
   "cell_type": "code",
   "execution_count": 11,
   "metadata": {},
   "outputs": [],
   "source": [
    "newval = train.iloc[255929:]"
   ]
  },
  {
   "cell_type": "code",
   "execution_count": 12,
   "metadata": {},
   "outputs": [
    {
     "data": {
      "text/plain": [
       "(63982, 23)"
      ]
     },
     "execution_count": 12,
     "metadata": {},
     "output_type": "execute_result"
    }
   ],
   "source": [
    "newval.shape"
   ]
  },
  {
   "cell_type": "code",
   "execution_count": 13,
   "metadata": {},
   "outputs": [],
   "source": [
    "X_train = newtrain.drop(columns='click')"
   ]
  },
  {
   "cell_type": "code",
   "execution_count": 14,
   "metadata": {},
   "outputs": [],
   "source": [
    "y_train = newtrain.loc[:,'click']"
   ]
  },
  {
   "cell_type": "code",
   "execution_count": 15,
   "metadata": {},
   "outputs": [],
   "source": [
    "X_test = newval.drop(columns='click')"
   ]
  },
  {
   "cell_type": "code",
   "execution_count": 16,
   "metadata": {},
   "outputs": [],
   "source": [
    "y_test = newval.loc[:,'click']"
   ]
  },
  {
   "cell_type": "code",
   "execution_count": 19,
   "metadata": {},
   "outputs": [
    {
     "data": {
      "text/plain": [
       "{'learning_rate': 0.25}"
      ]
     },
     "execution_count": 19,
     "metadata": {},
     "output_type": "execute_result"
    }
   ],
   "source": [
    "# tuning 'learning_rate'\n",
    "param_test1 = { \n",
    " 'learning_rate':[0.05,0.1,0.15,0.2,0.25,0.3]\n",
    "}\n",
    "gsearch = GridSearchCV(\n",
    "    estimator = XGBClassifier(objective= 'binary:logistic'), \n",
    "    param_grid = param_test1, \n",
    "    scoring= 'neg_log_loss',\n",
    "    cv=5)\n",
    "gsearch.fit(X_train,y_train)\n",
    "gsearch.best_params_  "
   ]
  },
  {
   "cell_type": "code",
   "execution_count": null,
   "metadata": {},
   "outputs": [],
   "source": [
    "seed = 1234\n",
    "\n",
    "rf_classifier = RandomForestClassifier(\n",
    "                      min_samples_leaf=50,\n",
    "                      n_estimators=150,\n",
    "                      bootstrap=True,\n",
    "                      oob_score=True,\n",
    "                      n_jobs=-1,\n",
    "                      random_state=seed,\n",
    "                      max_features='auto')"
   ]
  },
  {
   "cell_type": "code",
   "execution_count": 18,
   "metadata": {},
   "outputs": [
    {
     "data": {
      "text/plain": [
       "{'min_samples_leaf': 20}"
      ]
     },
     "execution_count": 18,
     "metadata": {},
     "output_type": "execute_result"
    }
   ],
   "source": [
    "param_test1 = {\n",
    "    'min_samples_leaf' :[10, 20, 30, 50, 100, 150, 250]\n",
    "}\n",
    "\n",
    "gsearch = GridSearchCV(\n",
    "    estimator = RandomForestClassifier(), \n",
    "    param_grid = param_test1, \n",
    "    scoring= 'neg_log_loss',\n",
    "    cv=5)\n",
    "gsearch.fit(X_train,y_train)\n",
    "gsearch.best_params_  "
   ]
  },
  {
   "cell_type": "code",
   "execution_count": 20,
   "metadata": {},
   "outputs": [
    {
     "data": {
      "text/plain": [
       "{'n_estimators': 1800}"
      ]
     },
     "execution_count": 20,
     "metadata": {},
     "output_type": "execute_result"
    }
   ],
   "source": [
    "param_test2 = {\n",
    " 'n_estimators': [200, 400, 600, 800, 1000, 1200, 1400, 1600, 1800, 2000]\n",
    "}\n",
    "gsearch = GridSearchCV(\n",
    "    estimator = RandomForestClassifier(min_samples_leaf=20), \n",
    "    param_grid = param_test2, \n",
    "    scoring= 'neg_log_loss',\n",
    "    cv=5)\n",
    "gsearch.fit(X_train,y_train)\n",
    "gsearch.best_params_     "
   ]
  },
  {
   "cell_type": "code",
   "execution_count": 21,
   "metadata": {},
   "outputs": [
    {
     "data": {
      "text/plain": [
       "{'max_depth': 60}"
      ]
     },
     "execution_count": 21,
     "metadata": {},
     "output_type": "execute_result"
    }
   ],
   "source": [
    "# tuning 'min_child_weight'\n",
    "param_test3 = {\n",
    " 'max_depth': [10, 20, 30, 40, 50, 60, 70, 80, 90, 100, None]\n",
    "}\n",
    "gsearch3 = GridSearchCV(\n",
    "    estimator = RandomForestClassifier(min_samples_leaf=20 , n_estimators = 1000), \n",
    "    param_grid = param_test3, \n",
    "    scoring= 'neg_log_loss',\n",
    "    cv=5)\n",
    "gsearch3.fit(X_train,y_train)\n",
    "gsearch3.best_params_     "
   ]
  },
  {
   "cell_type": "code",
   "execution_count": 22,
   "metadata": {},
   "outputs": [
    {
     "ename": "AttributeError",
     "evalue": "type object 'RandomForestClassifier' has no attribute 'DMatrix'",
     "output_type": "error",
     "traceback": [
      "\u001b[1;31m---------------------------------------------------------------------------\u001b[0m",
      "\u001b[1;31mAttributeError\u001b[0m                            Traceback (most recent call last)",
      "\u001b[1;32mc:\\Users\\henry\\Documents\\MSBAprogram\\MachineLearning1\\Project Data\\modeling_random_forest.ipynb Cell 21\u001b[0m in \u001b[0;36m<cell line: 1>\u001b[1;34m()\u001b[0m\n\u001b[1;32m----> <a href='vscode-notebook-cell:/c%3A/Users/henry/Documents/MSBAprogram/MachineLearning1/Project%20Data/modeling_random_forest.ipynb#X24sZmlsZQ%3D%3D?line=0'>1</a>\u001b[0m dtrain \u001b[39m=\u001b[39m RandomForestClassifier\u001b[39m.\u001b[39;49mDMatrix(data\u001b[39m=\u001b[39mX_train,label\u001b[39m=\u001b[39my_train)\n\u001b[0;32m      <a href='vscode-notebook-cell:/c%3A/Users/henry/Documents/MSBAprogram/MachineLearning1/Project%20Data/modeling_random_forest.ipynb#X24sZmlsZQ%3D%3D?line=1'>2</a>\u001b[0m dval \u001b[39m=\u001b[39m RandomForestClassifier\u001b[39m.\u001b[39mDMatrix(data\u001b[39m=\u001b[39mX_test,label\u001b[39m=\u001b[39my_test)\n\u001b[0;32m      <a href='vscode-notebook-cell:/c%3A/Users/henry/Documents/MSBAprogram/MachineLearning1/Project%20Data/modeling_random_forest.ipynb#X24sZmlsZQ%3D%3D?line=3'>4</a>\u001b[0m param \u001b[39m=\u001b[39m { \u001b[39m'\u001b[39m\u001b[39mmin_samples_leaf\u001b[39m\u001b[39m'\u001b[39m:\u001b[39m20\u001b[39m , \u001b[39m'\u001b[39m\u001b[39mn_estimators\u001b[39m\u001b[39m'\u001b[39m: \u001b[39m1000\u001b[39m, \u001b[39m'\u001b[39m\u001b[39mmax_depth\u001b[39m\u001b[39m'\u001b[39m:\u001b[39m60\u001b[39m}\n",
      "\u001b[1;31mAttributeError\u001b[0m: type object 'RandomForestClassifier' has no attribute 'DMatrix'"
     ]
    }
   ],
   "source": [
    "#dtrain = RandomForestClassifier.DMatrix(data=X_train,label=y_train)\n",
    "#dval = RandomForestClassifier.DMatrix(data=X_test,label=y_test)\n",
    "\n",
    "param = { 'min_samples_leaf':20 , 'n_estimators': 1000, 'max_depth':60}\n",
    "num_round = 1500\n",
    "evallist = [(dval, 'eval'), (dtrain, 'train')]\n",
    "bst = RandomForestClassifier.train(param, dtrain, num_round, evallist,early_stopping_rounds=80)"
   ]
  },
  {
   "cell_type": "code",
   "execution_count": 23,
   "metadata": {},
   "outputs": [
    {
     "name": "stderr",
     "output_type": "stream",
     "text": [
      "c:\\Users\\jacks\\AppData\\Local\\Programs\\Python\\Python310\\lib\\site-packages\\xgboost\\core.py:122: UserWarning: ntree_limit is deprecated, use `iteration_range` or model slicing instead.\n",
      "  warnings.warn(\n"
     ]
    }
   ],
   "source": [
    "ypredval = bst.predict(dval, ntree_limit=bst.best_ntree_limit)"
   ]
  },
  {
   "cell_type": "code",
   "execution_count": 26,
   "metadata": {},
   "outputs": [
    {
     "data": {
      "text/plain": [
       "0.4290323089484148"
      ]
     },
     "execution_count": 26,
     "metadata": {},
     "output_type": "execute_result"
    }
   ],
   "source": [
    "sklearn.metrics.log_loss(y_test, ypredval, normalize=True, sample_weight=None, labels=None)"
   ]
  }
 ],
 "metadata": {
  "kernelspec": {
   "display_name": "Python 3.9.12 ('base')",
   "language": "python",
   "name": "python3"
  },
  "language_info": {
   "codemirror_mode": {
    "name": "ipython",
    "version": 3
   },
   "file_extension": ".py",
   "mimetype": "text/x-python",
   "name": "python",
   "nbconvert_exporter": "python",
   "pygments_lexer": "ipython3",
   "version": "3.9.12"
  },
  "orig_nbformat": 4,
  "vscode": {
   "interpreter": {
    "hash": "f1a4a4f144332a771e00e7433ba769f3488621905bd9605b0b008be2dfad0e0c"
   }
  }
 },
 "nbformat": 4,
 "nbformat_minor": 2
}
