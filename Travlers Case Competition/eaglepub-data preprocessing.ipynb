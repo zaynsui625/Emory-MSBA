{
 "cells": [
  {
   "cell_type": "code",
   "execution_count": 77,
   "metadata": {},
   "outputs": [],
   "source": [
    "import pandas as pd\n",
    "import numpy as np\n",
    "from sklearn.model_selection import train_test_split\n",
    "from sklearn.model_selection import GridSearchCV, KFold, RandomizedSearchCV\n",
    "from sklearn.metrics import roc_curve\n",
    "from sklearn.metrics import auc\n",
    "from lightgbm import LGBMClassifier\n",
    "import lightgbm as lgb\n",
    "from sklearn.preprocessing import LabelEncoder "
   ]
  },
  {
   "cell_type": "markdown",
   "metadata": {},
   "source": [
    "Import Data & Data Understanding"
   ]
  },
  {
   "cell_type": "code",
   "execution_count": 78,
   "metadata": {},
   "outputs": [],
   "source": [
    "policies = pd.read_csv(r\"C:\\Ziyuan Sui\\MSBA\\Fall22\\Travelers\\data\\policies.csv\")"
   ]
  },
  {
   "cell_type": "code",
   "execution_count": 79,
   "metadata": {},
   "outputs": [
    {
     "data": {
      "text/plain": [
       "Index(['id', 'Quote_dt', 'discount', 'Home_policy_ind', 'zip', 'state_id',\n",
       "       'county_name', 'Agent_cd', 'quoted_amt', 'Prior_carrier_grp',\n",
       "       'credit_score', 'Cov_package_type', 'CAT_zone', 'policy_id',\n",
       "       'number_drivers', 'num_loaned_veh', 'num_owned_veh', 'num_leased_veh',\n",
       "       'total_number_veh', 'convert_ind', 'split', 'primary_parking'],\n",
       "      dtype='object')"
      ]
     },
     "execution_count": 79,
     "metadata": {},
     "output_type": "execute_result"
    }
   ],
   "source": [
    "policies.columns"
   ]
  },
  {
   "cell_type": "code",
   "execution_count": 80,
   "metadata": {},
   "outputs": [
    {
     "data": {
      "text/plain": [
       "id                       0\n",
       "Quote_dt                 0\n",
       "discount                 0\n",
       "Home_policy_ind          0\n",
       "zip                    472\n",
       "state_id                 0\n",
       "county_name              0\n",
       "Agent_cd              5430\n",
       "quoted_amt             112\n",
       "Prior_carrier_grp     5000\n",
       "credit_score           300\n",
       "Cov_package_type       770\n",
       "CAT_zone               250\n",
       "policy_id                0\n",
       "number_drivers           0\n",
       "num_loaned_veh           0\n",
       "num_owned_veh            0\n",
       "num_leased_veh           0\n",
       "total_number_veh         0\n",
       "convert_ind          12291\n",
       "split                    0\n",
       "primary_parking          0\n",
       "dtype: int64"
      ]
     },
     "execution_count": 80,
     "metadata": {},
     "output_type": "execute_result"
    }
   ],
   "source": [
    "#check null values\n",
    "policies.isna().sum()"
   ]
  },
  {
   "cell_type": "code",
   "execution_count": 81,
   "metadata": {},
   "outputs": [],
   "source": [
    "drivers = pd.read_csv(r\"C:\\Ziyuan Sui\\MSBA\\Fall22\\Travelers\\data\\drivers.csv\")"
   ]
  },
  {
   "cell_type": "code",
   "execution_count": 82,
   "metadata": {},
   "outputs": [],
   "source": [
    "veh_df = pd.read_csv(r\"C:\\Ziyuan Sui\\MSBA\\Fall22\\Travelers\\data\\vehicles.csv\")"
   ]
  },
  {
   "cell_type": "markdown",
   "metadata": {},
   "source": [
    "Data Cleaning & Feature Engineering"
   ]
  },
  {
   "cell_type": "code",
   "execution_count": 83,
   "metadata": {},
   "outputs": [],
   "source": [
    "drivers.loc[drivers['living_status'].isna(), 'living_status'] = 'own'\n",
    "drivers.loc[drivers['safty_rating'].isna(), 'safty_rating'] = drivers['safty_rating'].mean()\n",
    "drivers['high_education_ind'] = drivers['high_education_ind'].fillna(0)"
   ]
  },
  {
   "cell_type": "code",
   "execution_count": 84,
   "metadata": {},
   "outputs": [],
   "source": [
    "ls = drivers.groupby(['policy_id','living_status']).size().unstack('living_status', fill_value=0)\n",
    "policies = pd.merge(policies, ls, on='policy_id')"
   ]
  },
  {
   "cell_type": "code",
   "execution_count": 85,
   "metadata": {},
   "outputs": [],
   "source": [
    "ge = drivers.groupby(['policy_id','gender']).size().unstack('gender', fill_value=0)\n",
    "policies = pd.merge(policies, ge, on='policy_id')"
   ]
  },
  {
   "cell_type": "code",
   "execution_count": 86,
   "metadata": {},
   "outputs": [],
   "source": [
    "hei = drivers.groupby(['policy_id','high_education_ind']).size().unstack('high_education_ind', fill_value=0)\n",
    "hei['high_education_ind'] = hei.loc[:,1]/(hei.loc[:,0]+hei.loc[:,1])\n",
    "policies = pd.merge(policies, hei['high_education_ind'], on='policy_id')"
   ]
  },
  {
   "cell_type": "code",
   "execution_count": 87,
   "metadata": {},
   "outputs": [],
   "source": [
    "ad = drivers.groupby(['policy_id']).agg(maxage=('age','max'), mixage=('age','min'), \n",
    "                                          maxrate=('safty_rating','max'), minrate=('safty_rating','min'), )\n",
    "policies= pd.merge(policies, ad, on='policy_id')"
   ]
  },
  {
   "cell_type": "code",
   "execution_count": 88,
   "metadata": {},
   "outputs": [],
   "source": [
    "policies.rename(columns={'mixage':'minage'},inplace=True)"
   ]
  },
  {
   "cell_type": "code",
   "execution_count": 89,
   "metadata": {},
   "outputs": [],
   "source": [
    "te = drivers.groupby(['policy_id']).agg({'age': 'mean', 'safty_rating': 'mean'})\n",
    "policies = pd.merge(policies, te, on='policy_id')"
   ]
  },
  {
   "cell_type": "code",
   "execution_count": 90,
   "metadata": {},
   "outputs": [],
   "source": [
    "cat = ['Quote_dt', 'discount', 'Home_policy_ind', 'zip', 'state_id',\n",
    "       'county_name', 'Agent_cd', 'Prior_carrier_grp',\n",
    "       'Cov_package_type', 'CAT_zone',\n",
    "       'number_drivers', 'num_loaned_veh', 'num_owned_veh',\n",
    "       'num_leased_veh', 'total_number_veh', 'convert_ind',\n",
    "       'primary_parking']\n",
    "\n",
    "df = policies.drop(['policy_id', 'split'], axis=1)\n",
    "df[cat] = df[cat].astype('object')\n",
    "## In order to plot a better figure\n",
    "df[['zip', 'Agent_cd']] = df[['zip', 'Agent_cd']].astype('float64')"
   ]
  },
  {
   "cell_type": "code",
   "execution_count": 91,
   "metadata": {},
   "outputs": [],
   "source": [
    "veh_df['age'] = veh_df['age'].fillna(veh_df['age'].mean())"
   ]
  },
  {
   "cell_type": "code",
   "execution_count": 92,
   "metadata": {},
   "outputs": [],
   "source": [
    "policy_df = policies"
   ]
  },
  {
   "cell_type": "code",
   "execution_count": 93,
   "metadata": {},
   "outputs": [],
   "source": [
    "model = veh_df['make_model'].values\n",
    "set(map(lambda s: s[:s.index(':')-1], model))\n",
    "veh_df['make_model'] = list(map(lambda s: s[:s.index(':')-1], model))\n",
    "tm = veh_df.groupby(['policy_id', 'make_model']).size().unstack('make_model', fill_value=0)\n",
    "policy_df = pd.merge(policy_df, tm[['BMW', 'MERCEDES-BENZ']], on='policy_id')"
   ]
  },
  {
   "cell_type": "code",
   "execution_count": 94,
   "metadata": {},
   "outputs": [],
   "source": [
    "policy_df = pd.merge(policy_df, veh_df.groupby(['policy_id']).agg({'age': 'mean'}), on='policy_id')\n",
    "policy_df = policy_df.rename(columns={\"age_x\": \"age\", \"age_y\": \"ave_age\"})\n",
    "policy_df = policy_df.drop(['num_loaned_veh', 'num_owned_veh',\n",
    "       'num_leased_veh', 'total_number_veh'], axis=1)\n",
    "tn = pd.crosstab(veh_df['policy_id'], veh_df['ownership_type'])\n",
    "tn['total_number_veh'] = tn.sum(axis=1)\n",
    "policy_df = pd.merge(policy_df, tn, on='policy_id')"
   ]
  },
  {
   "cell_type": "code",
   "execution_count": 95,
   "metadata": {},
   "outputs": [],
   "source": [
    "policy_df['year'] = policy_df['Quote_dt'].apply(lambda s: s[:4])\n",
    "policy_df['month'] = policy_df['Quote_dt'].apply(lambda s: s[5:7])\n",
    "policy_df['year_month'] = policy_df['year'].apply(str)+policy_df['month'].apply(str)"
   ]
  },
  {
   "cell_type": "code",
   "execution_count": 96,
   "metadata": {},
   "outputs": [],
   "source": [
    "from datetime import datetime\n",
    "\n",
    "def days_between(d1, d2):\n",
    "    d1 = datetime.strptime(d1, \"%Y-%m-%d\")\n",
    "    d2 = datetime.strptime(d2, \"%Y-%m-%d\")\n",
    "    return abs((d2 - d1).days)"
   ]
  },
  {
   "cell_type": "code",
   "execution_count": 97,
   "metadata": {},
   "outputs": [],
   "source": [
    "earlist = min(policy_df['Quote_dt'])\n",
    "policy_df['Date'] = policy_df['Quote_dt'].apply(lambda s: days_between(s, earlist))"
   ]
  },
  {
   "cell_type": "code",
   "execution_count": 98,
   "metadata": {},
   "outputs": [],
   "source": [
    "policy_df['state_county'] = policy_df['state_id']+policy_df['county_name']\n",
    "policy_df['credit_score'] = policy_df['credit_score']-policy_df['credit_score'].min()\n",
    "policy_df['Home_policy_ind'] = policy_df[['Home_policy_ind']].replace(['Y'], '1')\n",
    "policy_df['Home_policy_ind'] = policy_df[['Home_policy_ind']].replace(['N'], '0')\n",
    "policy_df['Home_policy_ind'] = policy_df['Home_policy_ind'].astype('int64')"
   ]
  },
  {
   "cell_type": "code",
   "execution_count": 99,
   "metadata": {},
   "outputs": [],
   "source": [
    "policy_df['zip'] = policy_df['zip'].fillna(0).astype('int64')\n",
    "policy_df['Agent_cd'] = policy_df['Agent_cd'].fillna(0).astype('int64')\n",
    "policy_df['CAT_zone'] = policy_df['CAT_zone'].fillna(0)\n",
    "policy_df['Cov_package_type'] = policy_df['Cov_package_type'].fillna('Medium')"
   ]
  },
  {
   "cell_type": "code",
   "execution_count": 100,
   "metadata": {},
   "outputs": [],
   "source": [
    "drop_list = ['Quote_dt', 'state_id', 'county_name',  'year', 'month', 'primary_parking']\n",
    "policy_df = policy_df.drop(drop_list, axis=1)"
   ]
  },
  {
   "cell_type": "code",
   "execution_count": 101,
   "metadata": {},
   "outputs": [],
   "source": [
    "list1 = ['discount', 'Prior_carrier_grp', 'Cov_package_type', 'year_month', \n",
    "       'zip', 'Agent_cd', 'CAT_zone', 'state_county']\n",
    "\n",
    "for col in list1:\n",
    "    le = LabelEncoder()\n",
    "    policy_df[col] = le.fit_transform(list(policy_df[col].astype(str).values))"
   ]
  },
  {
   "cell_type": "code",
   "execution_count": 102,
   "metadata": {},
   "outputs": [
    {
     "data": {
      "text/plain": [
       "Index(['id', 'discount', 'Home_policy_ind', 'zip', 'Agent_cd', 'quoted_amt',\n",
       "       'Prior_carrier_grp', 'credit_score', 'Cov_package_type', 'CAT_zone',\n",
       "       'policy_id', 'number_drivers', 'convert_ind', 'split', 'dependent',\n",
       "       'own', 'rent', 'F', 'M', 'high_education_ind', 'maxage', 'minage',\n",
       "       'maxrate', 'minrate', 'age', 'safty_rating', 'BMW', 'MERCEDES-BENZ',\n",
       "       'ave_age', 'leased', 'loaned', 'owned', 'total_number_veh',\n",
       "       'year_month', 'Date', 'state_county'],\n",
       "      dtype='object')"
      ]
     },
     "execution_count": 102,
     "metadata": {},
     "output_type": "execute_result"
    }
   ],
   "source": [
    "policy_df.columns"
   ]
  },
  {
   "cell_type": "code",
   "execution_count": 103,
   "metadata": {},
   "outputs": [],
   "source": [
    "drop_list2 = ['id']\n",
    "policy_df = policy_df.drop(drop_list2, axis=1)"
   ]
  },
  {
   "cell_type": "markdown",
   "metadata": {},
   "source": [
    "policy_df.to_csv(r\"C:\\Ziyuan Sui\\MSBA\\Fall22\\Travelers\\data\\finalized.csv\")"
   ]
  }
 ],
 "metadata": {
  "kernelspec": {
   "display_name": "Python 3.10.6 64-bit",
   "language": "python",
   "name": "python3"
  },
  "language_info": {
   "codemirror_mode": {
    "name": "ipython",
    "version": 3
   },
   "file_extension": ".py",
   "mimetype": "text/x-python",
   "name": "python",
   "nbconvert_exporter": "python",
   "pygments_lexer": "ipython3",
   "version": "3.10.6"
  },
  "orig_nbformat": 4,
  "vscode": {
   "interpreter": {
    "hash": "4dc00988b6380d78f37925bb5cfd9f97a198c15e33ccaa3d0f00c8d36181cbab"
   }
  }
 },
 "nbformat": 4,
 "nbformat_minor": 2
}
