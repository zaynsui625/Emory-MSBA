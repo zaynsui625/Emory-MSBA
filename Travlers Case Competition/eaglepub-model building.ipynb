{
 "cells": [
  {
   "cell_type": "code",
   "execution_count": 1,
   "metadata": {},
   "outputs": [],
   "source": [
    "import pandas as pd\n",
    "import numpy as np\n",
    "from sklearn.model_selection import train_test_split\n",
    "from sklearn.model_selection import GridSearchCV, KFold, RandomizedSearchCV\n",
    "from sklearn.metrics import roc_curve\n",
    "from sklearn.metrics import auc\n",
    "from lightgbm import LGBMClassifier\n",
    "import lightgbm as lgb\n"
   ]
  },
  {
   "cell_type": "code",
   "execution_count": 3,
   "metadata": {},
   "outputs": [],
   "source": [
    "policy_df= pd.read_csv(r\"C:\\Ziyuan Sui\\MSBA\\Fall22\\Travelers\\data\\finalized.csv\")"
   ]
  },
  {
   "cell_type": "markdown",
   "metadata": {},
   "source": [
    "Model Building"
   ]
  },
  {
   "cell_type": "code",
   "execution_count": 4,
   "metadata": {},
   "outputs": [],
   "source": [
    "import re\n",
    "policy_df = policy_df.rename(columns = lambda x:re.sub('[^A-Za-z0-9_]+', '', x))"
   ]
  },
  {
   "cell_type": "code",
   "execution_count": 5,
   "metadata": {},
   "outputs": [],
   "source": [
    "ptrain = policy_df[policy_df['split'] == 'Train'].drop('split', axis=1)\n",
    "msk = np.random.rand(len(ptrain)) < 0.75\n",
    "df = ptrain.drop(['policy_id'], axis=1)\n",
    "X_train, X_test, y_train, y_test = train_test_split(df.drop(['convert_ind'], axis=1), df['convert_ind'], test_size=0.25)\n",
    "train, test = df[msk], df[~msk]\n",
    "predictors = X_test.columns.values\n",
    "target = 'convert_ind'"
   ]
  },
  {
   "cell_type": "code",
   "execution_count": 6,
   "metadata": {},
   "outputs": [],
   "source": [
    "lgb2 = LGBMClassifier()"
   ]
  },
  {
   "cell_type": "code",
   "execution_count": 7,
   "metadata": {},
   "outputs": [],
   "source": [
    "param_test = {\n",
    " 'num_leaves':range(5,45,5),\n",
    " 'min_data_in_leaf':range(5,100,5),\n",
    " 'reg_alpha': range(4,20,2)\n",
    "}"
   ]
  },
  {
   "cell_type": "code",
   "execution_count": 53,
   "metadata": {},
   "outputs": [
    {
     "name": "stdout",
     "output_type": "stream",
     "text": [
      "\n",
      " Parameter Tuning #4\n",
      "Non-nested CV Accuracy:  0.6973321217286484\n",
      "Optimal Parameter:  {'min_data_in_leaf': 95, 'num_leaves': 10, 'reg_alpha': 10}\n",
      "Optimal Estimator:  LGBMClassifier(min_data_in_leaf=95, num_leaves=10, reg_alpha=10)\n"
     ]
    }
   ],
   "source": [
    "gs = GridSearchCV(estimator=lgb2,\n",
    "                  param_grid=param_test,\n",
    "                  scoring='roc_auc',\n",
    "                  cv=5,\n",
    "                  n_jobs=-1)\n",
    "\n",
    "gs= gs.fit(X_train,y_train)\n",
    "print(\"\\n Parameter Tuning #4\")\n",
    "print(\"Non-nested CV Accuracy: \", gs.best_score_)\n",
    "print(\"Optimal Parameter: \", gs.best_params_)\n",
    "print(\"Optimal Estimator: \", gs.best_estimator_)\n"
   ]
  },
  {
   "cell_type": "code",
   "execution_count": 15,
   "metadata": {},
   "outputs": [
    {
     "name": "stdout",
     "output_type": "stream",
     "text": [
      "\n",
      " Parameter Tuning #4\n",
      "Non-nested CV Accuracy:  0.692298484435789\n",
      "Optimal Parameter:  {'reg_alpha': 10, 'num_leaves': 30, 'min_data_in_leaf': 35, 'feature_fraction': 0.7, 'bagging_fraction': 0.8}\n",
      "Optimal Estimator:  LGBMClassifier(bagging_fraction=0.8, feature_fraction=0.7, min_data_in_leaf=35,\n",
      "               num_leaves=30, reg_alpha=10)\n"
     ]
    }
   ],
   "source": [
    "rs = RandomizedSearchCV(estimator=lgb2,\n",
    "                  param_distributions=param_test,\n",
    "                  scoring='roc_auc',\n",
    "                  cv=10,\n",
    "                  n_jobs=-1)\n",
    "\n",
    "rs= rs.fit(X_train,y_train)\n",
    "print(\"\\n Parameter Tuning #4\")\n",
    "print(\"Non-nested CV Accuracy: \", rs.best_score_)\n",
    "print(\"Optimal Parameter: \", rs.best_params_)\n",
    "print(\"Optimal Estimator: \", rs.best_estimator_)"
   ]
  },
  {
   "cell_type": "code",
   "execution_count": 34,
   "metadata": {},
   "outputs": [],
   "source": [
    "policy_train_df = policy_df[policy_df['split'] == 'Train'].drop('split', axis=1)\n",
    "policy_test_df = policy_df[policy_df['split'] == 'Test'].drop('split', axis=1)"
   ]
  },
  {
   "cell_type": "code",
   "execution_count": 35,
   "metadata": {},
   "outputs": [],
   "source": [
    "ptrain, ptest = policy_train_df.copy(), policy_test_df.copy()\n",
    "X, y = ptrain.drop(['convert_ind', 'policy_id'], axis=1), ptrain['convert_ind']\n",
    "X_test = ptest.drop(['convert_ind', 'policy_id'], axis=1)"
   ]
  },
  {
   "cell_type": "code",
   "execution_count": 36,
   "metadata": {},
   "outputs": [
    {
     "data": {
      "text/plain": [
       "(12291, 34)"
      ]
     },
     "execution_count": 36,
     "metadata": {},
     "output_type": "execute_result"
    }
   ],
   "source": [
    "X_test.shape"
   ]
  },
  {
   "cell_type": "code",
   "execution_count": 41,
   "metadata": {},
   "outputs": [
    {
     "data": {
      "text/plain": [
       "(49162, 37)"
      ]
     },
     "execution_count": 41,
     "metadata": {},
     "output_type": "execute_result"
    }
   ],
   "source": [
    "policy_df.shape"
   ]
  },
  {
   "cell_type": "code",
   "execution_count": 22,
   "metadata": {},
   "outputs": [],
   "source": [
    "lgb3 = LGBMClassifier(min_data_in_leaf=70, num_leaves=20, reg_alpha=10)"
   ]
  },
  {
   "cell_type": "code",
   "execution_count": 25,
   "metadata": {},
   "outputs": [],
   "source": [
    "param_test2 = {\n",
    "'n_estimators' : range(500,6000,500)\n",
    "}"
   ]
  },
  {
   "cell_type": "code",
   "execution_count": 26,
   "metadata": {},
   "outputs": [
    {
     "name": "stdout",
     "output_type": "stream",
     "text": [
      "auc:  0.6852384834309744\n",
      "Optimal Parameter:  {'n_estimators': 500}\n",
      "Optimal Estimator:  LGBMClassifier(min_data_in_leaf=70, n_estimators=500, num_leaves=20,\n",
      "               reg_alpha=10)\n"
     ]
    }
   ],
   "source": [
    "gs2 = GridSearchCV(estimator=lgb3,\n",
    "                  param_grid=param_test2,\n",
    "                  scoring='roc_auc',\n",
    "                  cv=10,\n",
    "                  n_jobs=-1)\n",
    "\n",
    "gs2= gs2.fit(X_train,y_train)\n",
    "print(\"auc: \", gs2.best_score_)\n",
    "print(\"Optimal Parameter: \", gs2.best_params_)\n",
    "print(\"Optimal Estimator: \", gs2.best_estimator_)\n"
   ]
  },
  {
   "cell_type": "code",
   "execution_count": 39,
   "metadata": {},
   "outputs": [],
   "source": [
    "lgb3.fit(X,y)\n",
    "y_pred = lgb3.predict_proba(X_test)"
   ]
  },
  {
   "cell_type": "code",
   "execution_count": 40,
   "metadata": {},
   "outputs": [],
   "source": [
    "TARGET=y_pred[:,1]"
   ]
  },
  {
   "cell_type": "code",
   "execution_count": 43,
   "metadata": {},
   "outputs": [],
   "source": [
    "submission = pd.DataFrame({\n",
    "    \"policy_id\": policy_test_df[\"policy_id\"],\n",
    "    \"TARGET\": TARGET\n",
    "})"
   ]
  },
  {
   "cell_type": "code",
   "execution_count": 44,
   "metadata": {},
   "outputs": [],
   "source": [
    "submission.to_csv(r\"C:\\Ziyuan Sui\\MSBA\\Fall22\\Travelers\\submission4.csv\",index=False, mode='w')"
   ]
  },
  {
   "cell_type": "code",
   "execution_count": 36,
   "metadata": {},
   "outputs": [],
   "source": [
    "lgb4 = LGBMClassifier(min_data_in_leaf=95, num_leaves=10, reg_alpha=10)"
   ]
  },
  {
   "cell_type": "code",
   "execution_count": 39,
   "metadata": {},
   "outputs": [],
   "source": [
    "param_test4 = {\n",
    "'bagging_fraction':[i/10.0 for i in range(1,10)],\n",
    " 'feature_fraction':[i/10.0 for i in range(1,10)]\n",
    "}"
   ]
  },
  {
   "cell_type": "code",
   "execution_count": 40,
   "metadata": {},
   "outputs": [
    {
     "name": "stdout",
     "output_type": "stream",
     "text": [
      "auc:  0.698302226981198\n",
      "Optimal Parameter:  {'bagging_fraction': 0.1, 'feature_fraction': 0.5}\n",
      "Optimal Estimator:  LGBMClassifier(bagging_fraction=0.1, feature_fraction=0.5, min_data_in_leaf=95,\n",
      "               num_leaves=10, reg_alpha=10)\n"
     ]
    }
   ],
   "source": [
    "gs4 = GridSearchCV(estimator=lgb4,\n",
    "                  param_grid=param_test4,\n",
    "                  scoring='roc_auc',\n",
    "                  cv=5,\n",
    "                  n_jobs=-1)\n",
    "\n",
    "gs4= gs4.fit(X_train,y_train)\n",
    "print(\"auc: \", gs4.best_score_)\n",
    "print(\"Optimal Parameter: \", gs4.best_params_)\n",
    "print(\"Optimal Estimator: \", gs4.best_estimator_)"
   ]
  },
  {
   "cell_type": "code",
   "execution_count": 44,
   "metadata": {},
   "outputs": [],
   "source": [
    "lgb5 = LGBMClassifier(min_data_in_leaf=95, num_leaves=10, reg_alpha=10)"
   ]
  },
  {
   "cell_type": "code",
   "execution_count": 47,
   "metadata": {},
   "outputs": [],
   "source": [
    "param_test5 = {\n",
    "'bagging_fraction':[i/10.0 for i in range(1,10)],\n",
    " 'feature_fraction':[i/10.0 for i in range(1,10)],\n",
    " 'min_sum_hessian_in_leaf':[i for i in range(11,40,2)]\n",
    "}"
   ]
  },
  {
   "cell_type": "code",
   "execution_count": 48,
   "metadata": {},
   "outputs": [
    {
     "name": "stdout",
     "output_type": "stream",
     "text": [
      "auc:  0.6987419811050097\n",
      "Optimal Parameter:  {'bagging_fraction': 0.1, 'feature_fraction': 0.5, 'min_sum_hessian_in_leaf': 29}\n",
      "Optimal Estimator:  LGBMClassifier(bagging_fraction=0.1, feature_fraction=0.5, min_data_in_leaf=95,\n",
      "               min_sum_hessian_in_leaf=29, num_leaves=10, reg_alpha=10)\n"
     ]
    }
   ],
   "source": [
    "gs5 = GridSearchCV(estimator=lgb5,\n",
    "                  param_grid=param_test5,\n",
    "                  scoring='roc_auc',\n",
    "                  cv=5,\n",
    "                  n_jobs=-1)\n",
    "\n",
    "gs5= gs5.fit(X_train,y_train)\n",
    "print(\"auc: \", gs5.best_score_)\n",
    "print(\"Optimal Parameter: \", gs5.best_params_)\n",
    "print(\"Optimal Estimator: \", gs5.best_estimator_)"
   ]
  },
  {
   "cell_type": "code",
   "execution_count": 22,
   "metadata": {},
   "outputs": [
    {
     "name": "stdout",
     "output_type": "stream",
     "text": [
      "auc:  0.7040793278128996\n",
      "Optimal Parameter:  {'random_seed': 9166}\n",
      "Optimal Estimator:  LGBMClassifier(bagging_fraction=0.1, feature_fraction=0.5, min_data_in_leaf=95,\n",
      "               min_sum_hessian_in_leaf=29, num_leaves=10, random_seed=9166,\n",
      "               reg_alpha=10)\n"
     ]
    }
   ],
   "source": [
    "lgb6 = LGBMClassifier(bagging_fraction=0.1, feature_fraction=0.5, min_data_in_leaf=95,\n",
    "               min_sum_hessian_in_leaf=29, num_leaves=10, reg_alpha=10)\n",
    "\n",
    "param_test6 = {\n",
    "'random_seed':range(8800,9200,1)\n",
    "\n",
    "}\n",
    "gs6 = GridSearchCV(estimator=lgb6,\n",
    "                  param_grid=param_test6,\n",
    "                  scoring='roc_auc',\n",
    "                  cv=5,\n",
    "                  n_jobs=-1)\n",
    "\n",
    "gs6= gs6.fit(X_train,y_train)\n",
    "print(\"auc: \", gs6.best_score_)\n",
    "print(\"Optimal Parameter: \", gs6.best_params_)\n",
    "print(\"Optimal Estimator: \", gs6.best_estimator_)"
   ]
  },
  {
   "cell_type": "code",
   "execution_count": 17,
   "metadata": {},
   "outputs": [
    {
     "name": "stdout",
     "output_type": "stream",
     "text": [
      "auc:  0.7045604612701543\n",
      "Optimal Parameter:  {'random_seed': 7044}\n",
      "Optimal Estimator:  LGBMClassifier(bagging_fraction=0.1, feature_fraction=0.5, min_data_in_leaf=95,\n",
      "               min_sum_hessian_in_leaf=29, num_leaves=10, random_seed=7044,\n",
      "               reg_alpha=10)\n"
     ]
    }
   ],
   "source": [
    "lgb6 = LGBMClassifier(bagging_fraction=0.1, feature_fraction=0.5, min_data_in_leaf=95,\n",
    "               min_sum_hessian_in_leaf=29, num_leaves=10, reg_alpha=10)\n",
    "\n",
    "param_test6 = {\n",
    "'random_seed':range(6800,7200,1)\n",
    "}\n",
    "gs6 = GridSearchCV(estimator=lgb6,\n",
    "                  param_grid=param_test6,\n",
    "                  scoring='roc_auc',\n",
    "                  cv=5,\n",
    "                  n_jobs=-1)\n",
    "\n",
    "gs6= gs6.fit(X_train,y_train)\n",
    "print(\"auc: \", gs6.best_score_)\n",
    "print(\"Optimal Parameter: \", gs6.best_params_)\n",
    "print(\"Optimal Estimator: \", gs6.best_estimator_)"
   ]
  },
  {
   "cell_type": "code",
   "execution_count": 14,
   "metadata": {},
   "outputs": [
    {
     "name": "stderr",
     "output_type": "stream",
     "text": [
      "c:\\Software\\lib\\site-packages\\sklearn\\model_selection\\_search.py:922: UserWarning: One or more of the test scores are non-finite: [       nan 0.69784082 0.69601585 0.69279656]\n",
      "  warnings.warn(\n"
     ]
    },
    {
     "name": "stdout",
     "output_type": "stream",
     "text": [
      "[LightGBM] [Warning] feature_fraction is set=0.4, colsample_bytree=1.0 will be ignored. Current value: feature_fraction=0.4\n",
      "[LightGBM] [Warning] min_data_in_leaf is set=90, min_child_samples=20 will be ignored. Current value: min_data_in_leaf=90\n",
      "[LightGBM] [Warning] min_sum_hessian_in_leaf is set=6, min_child_weight=0.001 will be ignored. Current value: min_sum_hessian_in_leaf=6\n",
      "[LightGBM] [Warning] bagging_fraction is set=0.1, subsample=1.0 will be ignored. Current value: bagging_fraction=0.1\n",
      "auc:  0.6978408156805933\n",
      "Optimal Parameter:  {'learning_rate': 0.1}\n",
      "Optimal Estimator:  LGBMClassifier(bagging_fraction=0.1,\n",
      "               class_weight={0: 0.5627391127391127, 1: 4.484755108660396},\n",
      "               feature_fraction=0.4, min_data_in_leaf=90,\n",
      "               min_sum_hessian_in_leaf=6, num_leaves=10, reg_alpha=10)\n"
     ]
    }
   ],
   "source": [
    "lgb7 = LGBMClassifier(bagging_fraction=0.1, feature_fraction=0.4, min_data_in_leaf=90,\n",
    "               min_sum_hessian_in_leaf=6, num_leaves=10, reg_alpha=10)\n",
    "\n",
    "param_test7 = {\n",
    "'learning_rate':[0,0.1,0.15,0.05]\n",
    "}\n",
    "gs7 = GridSearchCV(estimator=lgb7,\n",
    "                  param_grid=param_test7,\n",
    "                  scoring='roc_auc',\n",
    "                  cv=5,\n",
    "                  n_jobs=-1)\n",
    "\n",
    "gs7= gs7.fit(X_train,y_train)\n",
    "print(\"auc: \", gs7.best_score_)\n",
    "print(\"Optimal Parameter: \", gs7.best_params_)\n",
    "print(\"Optimal Estimator: \", gs7.best_estimator_)\n",
    "\n"
   ]
  },
  {
   "cell_type": "code",
   "execution_count": 15,
   "metadata": {},
   "outputs": [],
   "source": [
    "policy_train_df = policy_df[policy_df['split'] == 'Train'].drop('split', axis=1)\n",
    "policy_test_df = policy_df[policy_df['split'] == 'Test'].drop('split', axis=1)\n",
    "ptrain, ptest = policy_train_df.copy(), policy_test_df.copy()\n",
    "X, y = ptrain.drop(['convert_ind', 'policy_id'], axis=1), ptrain['convert_ind']\n",
    "X_test = ptest.drop(['convert_ind', 'policy_id'], axis=1)"
   ]
  },
  {
   "cell_type": "code",
   "execution_count": 29,
   "metadata": {},
   "outputs": [],
   "source": [
    "lgb = LGBMClassifier(bagging_fraction=0.1,\n",
    "               feature_fraction=0.4, min_data_in_leaf=90,\n",
    "               min_sum_hessian_in_leaf=6, num_leaves=10, reg_alpha=10)"
   ]
  },
  {
   "cell_type": "code",
   "execution_count": 30,
   "metadata": {},
   "outputs": [
    {
     "name": "stdout",
     "output_type": "stream",
     "text": [
      "[LightGBM] [Warning] feature_fraction is set=0.4, colsample_bytree=1.0 will be ignored. Current value: feature_fraction=0.4\n",
      "[LightGBM] [Warning] min_data_in_leaf is set=90, min_child_samples=20 will be ignored. Current value: min_data_in_leaf=90\n",
      "[LightGBM] [Warning] min_sum_hessian_in_leaf is set=6, min_child_weight=0.001 will be ignored. Current value: min_sum_hessian_in_leaf=6\n",
      "[LightGBM] [Warning] bagging_fraction is set=0.1, subsample=1.0 will be ignored. Current value: bagging_fraction=0.1\n"
     ]
    }
   ],
   "source": [
    "lgb.fit(X,y)\n",
    "y_pred = lgb.predict_proba(X_test)"
   ]
  },
  {
   "cell_type": "code",
   "execution_count": 31,
   "metadata": {},
   "outputs": [],
   "source": [
    "TARGET=y_pred[:,1]\n",
    "submission = pd.DataFrame({\n",
    "    \"policy_id\": policy_test_df[\"policy_id\"],\n",
    "    \"TARGET\": TARGET\n",
    "})"
   ]
  },
  {
   "cell_type": "code",
   "execution_count": 32,
   "metadata": {},
   "outputs": [],
   "source": [
    "submission.to_csv(r\"C:\\Ziyuan Sui\\MSBA\\Fall22\\Travelers\\submission8.csv\",index=False, mode='w')"
   ]
  }
 ],
 "metadata": {
  "kernelspec": {
   "display_name": "Python 3.9.7 ('base')",
   "language": "python",
   "name": "python3"
  },
  "language_info": {
   "codemirror_mode": {
    "name": "ipython",
    "version": 3
   },
   "file_extension": ".py",
   "mimetype": "text/x-python",
   "name": "python",
   "nbconvert_exporter": "python",
   "pygments_lexer": "ipython3",
   "version": "3.9.7"
  },
  "orig_nbformat": 4,
  "vscode": {
   "interpreter": {
    "hash": "f7382e9740d48b42dc419752070a0d1b576067aaacb340818bd7d4ce2b63fdf2"
   }
  }
 },
 "nbformat": 4,
 "nbformat_minor": 2
}
